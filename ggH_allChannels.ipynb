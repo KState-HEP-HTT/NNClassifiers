{
 "cells": [
  {
   "cell_type": "code",
   "execution_count": 1,
   "metadata": {},
   "outputs": [
    {
     "name": "stdout",
     "output_type": "stream",
     "text": [
      "Welcome to JupyROOT 6.14/00\n"
     ]
    },
    {
     "name": "stderr",
     "output_type": "stream",
     "text": [
      "Using TensorFlow backend.\n"
     ]
    }
   ],
   "source": [
    "## import all the things\n",
    "import numpy as np\n",
    "import pandas as pd\n",
    "from glob import glob\n",
    "from os import environ\n",
    "from root_pandas import read_root\n",
    "# on Wisc machine, must be before Keras import\n",
    "environ['KERAS_BACKEND'] = 'tensorflow'\n",
    "from keras import optimizers\n",
    "from keras.models import Sequential\n",
    "from keras.layers import Dense\n",
    "from keras.callbacks import ModelCheckpoint, EarlyStopping"
   ]
  },
  {
   "cell_type": "code",
   "execution_count": 2,
   "metadata": {},
   "outputs": [],
   "source": [
    "## build the model\n",
    "model = Sequential()\n",
    "model.add(Dense(6, input_shape=(6,), name='input', activation='sigmoid'))\n",
    "model.add(Dense(1, activation='sigmoid', kernel_initializer='normal'))\n",
    "model.compile(optimizer='adam', loss='binary_crossentropy', metrics=['accuracy'])\n",
    "callbacks = [\n",
    "            EarlyStopping(monitor='val_loss', patience=50),\n",
    "        ]"
   ]
  },
  {
   "cell_type": "code",
   "execution_count": 3,
   "metadata": {},
   "outputs": [],
   "source": [
    "input_variables = ['mjj', 'met', 'j1_pt', 'j2_pt'] ## will add lepton pT's as well\n",
    "other_vars = [\n",
    "    'evtwt', 'cat_inclusive', 'cat_0jet', 'cat_boosted', 'cat_vbf',\n",
    "    'Dbkg_VBF', 'Dbkg_ggH', 'njets', 'higgs_pT', 't1_charge', 't1_pt'\n",
    "]\n",
    "el_slicer = input_variables + other_vars + ['nbjets', 'el_pt', 'el_charge', 'mt']\n",
    "mu_slicer = input_variables + other_vars + ['nbtag', 'mu_pt', 'mu_charge', 'mt']\n",
    "tt_slicer = input_variables + other_vars + ['nbtag', 't2_pt', 't2_charge']"
   ]
  },
  {
   "cell_type": "code",
   "execution_count": 4,
   "metadata": {},
   "outputs": [],
   "source": [
    "el_sig_df = read_root('input_files/ggH125.root', columns=el_slicer)\n",
    "el_bkg_df = read_root('input_files/ZTT.root', columns=el_slicer)\n",
    "mu_sig_df = read_root('input_files/outputs_nominal_mt/ggH125.root', columns=mu_slicer)\n",
    "mu_bkg_df = read_root('input_files/outputs_nominal_mt/ZTT.root', columns=mu_slicer)\n",
    "tt_sig_df = read_root('input_files/outputs_nominal_tt/ggH125.root', columns=tt_slicer)\n",
    "tt_bkg_df = read_root('input_files/outputs_nominal_tt/ZTT.root', columns=tt_slicer)"
   ]
  },
  {
   "cell_type": "code",
   "execution_count": 5,
   "metadata": {},
   "outputs": [],
   "source": [
    "def el_selection(df):\n",
    "    qual_cut = (df['njets'] > 1) & \\\n",
    "               (df['nbjets'] == 0) & (df['mjj'] < 600) & \\\n",
    "               (df['t1_pt'] > 30) & (df['mt'] < 50) & \\\n",
    "               (df['el_charge'] + df['t1_charge'] == 0)\n",
    "    df = df[qual_cut]\n",
    "    \n",
    "    # make sure the weight is in the correct column and is normalized \n",
    "    weight = df['evtwt'].values\n",
    "    from sklearn.preprocessing import MinMaxScaler\n",
    "    points = weight.shape[0]\n",
    "    weight = weight.reshape(-1, 1)\n",
    "    weight = MinMaxScaler(feature_range=(0, 1)).fit_transform(weight)\n",
    "    weight = weight.reshape(points, -1)\n",
    "    df.insert(loc=df.shape[1], column='weight', value=weight)\n",
    "    \n",
    "    l1_pt = df['el_pt'].values\n",
    "    l2_pt = df['t1_pt'].values\n",
    "    df.insert(loc=0, column='l1_pt', value=l1_pt)\n",
    "    df.insert(loc=0, column='l2_pt', value=l2_pt)\n",
    "    \n",
    "    # remove un-needed columns\n",
    "    droppers = other_vars + ['nbjets', 'el_pt', 'el_charge', 'mt', 't1_pt']\n",
    "    df = df.drop(droppers, axis=1)\n",
    "\n",
    "    return df"
   ]
  },
  {
   "cell_type": "code",
   "execution_count": 6,
   "metadata": {},
   "outputs": [],
   "source": [
    "def mu_selection(df):\n",
    "    qual_cut = (df['njets'] > 1) & \\\n",
    "               (df['nbtag'] == 0) & (df['mjj'] < 600) & \\\n",
    "               (df['t1_pt'] > 40) & (df['mt'] < 50) & \\\n",
    "               (df['mu_charge'] + df['t1_charge'] == 0)\n",
    "    df = df[qual_cut]\n",
    "    \n",
    "    # make sure the weight is in the correct column and is normalized \n",
    "    weight = df['evtwt'].values\n",
    "    from sklearn.preprocessing import MinMaxScaler\n",
    "    points = weight.shape[0]\n",
    "    weight = weight.reshape(-1, 1)\n",
    "    weight = MinMaxScaler(feature_range=(0, 1)).fit_transform(weight)\n",
    "    weight = weight.reshape(points, -1)\n",
    "    df.insert(loc=df.shape[1], column='weight', value=weight)\n",
    "\n",
    "    l1_pt = df['mu_pt'].values\n",
    "    l2_pt = df['t1_pt'].values\n",
    "    df.insert(loc=0, column='l1_pt', value=l1_pt)\n",
    "    df.insert(loc=0, column='l2_pt', value=l2_pt)\n",
    "\n",
    "    # remove un-needed columns\n",
    "    droppers = other_vars + ['nbtag', 'mu_pt', 'mu_charge', 'mt', 't1_pt']\n",
    "    df = df.drop(droppers, axis=1)\n",
    "\n",
    "    return df"
   ]
  },
  {
   "cell_type": "code",
   "execution_count": 7,
   "metadata": {},
   "outputs": [],
   "source": [
    "def tt_selection(df):\n",
    "    qual_cut = (df['njets'] > 1) & \\\n",
    "               (df['nbtag'] == 0) & (df['mjj'] < 600) & \\\n",
    "               (df['t1_charge'] + df['t2_charge'] == 0)\n",
    "    df = df[qual_cut]\n",
    "    \n",
    "    # make sure the weight is in the correct column and is normalized \n",
    "    weight = df['evtwt'].values\n",
    "    from sklearn.preprocessing import MinMaxScaler\n",
    "    points = weight.shape[0]\n",
    "    weight = weight.reshape(-1, 1)\n",
    "    weight = MinMaxScaler(feature_range=(0, 1)).fit_transform(weight)\n",
    "    weight = weight.reshape(points, -1)\n",
    "    df.insert(loc=df.shape[1], column='weight', value=weight)\n",
    "\n",
    "    l1_pt = df['t1_pt'].values\n",
    "    l2_pt = df['t2_pt'].values\n",
    "    df.insert(loc=0, column='l1_pt', value=l1_pt)\n",
    "    df.insert(loc=0, column='l2_pt', value=l2_pt)\n",
    "    \n",
    "    # remove un-needed columns\n",
    "    droppers = other_vars + ['nbtag', 't2_pt', 't1_charge', 't2_charge', 't1_pt']\n",
    "    df = df.drop(droppers, axis=1)\n",
    "\n",
    "    return df"
   ]
  },
  {
   "cell_type": "code",
   "execution_count": 8,
   "metadata": {},
   "outputs": [],
   "source": [
    "el_sig_df = el_selection(el_sig_df)\n",
    "el_bkg_df = el_selection(el_bkg_df)\n",
    "mu_sig_df = mu_selection(mu_sig_df)\n",
    "mu_bkg_df = mu_selection(mu_bkg_df)\n",
    "tt_sig_df = tt_selection(tt_sig_df)\n",
    "tt_bkg_df = tt_selection(tt_bkg_df)"
   ]
  },
  {
   "cell_type": "code",
   "execution_count": 9,
   "metadata": {},
   "outputs": [],
   "source": [
    "signal = pd.concat([el_sig_df, mu_sig_df, tt_sig_df], sort=False)\n",
    "background = pd.concat([el_bkg_df, mu_bkg_df, tt_bkg_df], sort=False)"
   ]
  },
  {
   "cell_type": "code",
   "execution_count": 10,
   "metadata": {},
   "outputs": [],
   "source": [
    "signal['isSignal'] = np.ones(len(signal))\n",
    "background['isSignal'] = np.zeros(len(background))"
   ]
  },
  {
   "cell_type": "code",
   "execution_count": 11,
   "metadata": {},
   "outputs": [
    {
     "name": "stdout",
     "output_type": "stream",
     "text": [
      "No. Signal 4300\n",
      "No. Background 100236\n",
      "No. tt Background 7242\n"
     ]
    }
   ],
   "source": [
    "print 'No. Signal {}'.format(len(signal))\n",
    "print 'No. Background {}'.format(len(background))\n",
    "print 'No. tt Background {}'.format(len(tt_bkg_df))"
   ]
  },
  {
   "cell_type": "code",
   "execution_count": 12,
   "metadata": {},
   "outputs": [],
   "source": [
    "from sklearn.preprocessing import StandardScaler\n",
    "from sklearn.model_selection import train_test_split\n",
    "\n",
    "## make the combined dataset\n",
    "fat_panda = pd.concat([signal, background])\n",
    "all_data = fat_panda.values ## convert pandas dataframe -> numpy array"
   ]
  },
  {
   "cell_type": "code",
   "execution_count": 13,
   "metadata": {},
   "outputs": [],
   "source": [
    "# split data into labels and also split into train/test\n",
    "data_train, data_test, meta_train, meta_test = train_test_split(\n",
    "    all_data[:, :6], all_data[:, 6:], test_size=0.05, random_state=7)"
   ]
  },
  {
   "cell_type": "code",
   "execution_count": 14,
   "metadata": {},
   "outputs": [],
   "source": [
    "# normalize all input variables to improve performance\n",
    "data_train = StandardScaler().fit_transform(data_train)"
   ]
  },
  {
   "cell_type": "code",
   "execution_count": 15,
   "metadata": {},
   "outputs": [],
   "source": [
    "## separate the event weights and labels\n",
    "data = data_train\n",
    "weight = meta_train[:, 0]\n",
    "label = meta_train[:, 1]"
   ]
  },
  {
   "cell_type": "code",
   "execution_count": 16,
   "metadata": {},
   "outputs": [
    {
     "name": "stderr",
     "output_type": "stream",
     "text": [
      "2018-10-19 20:36:36.707955: I tensorflow/core/platform/cpu_feature_guard.cc:141] Your CPU supports instructions that this TensorFlow binary was not compiled to use: AVX2 FMA\n"
     ]
    }
   ],
   "source": [
    "%%capture\n",
    "model.fit(data, label, shuffle=True,\n",
    "          epochs=10000, batch_size=1024, verbose=True,\n",
    "          callbacks=callbacks, validation_split=0.25, sample_weight=weight\n",
    "          )"
   ]
  },
  {
   "cell_type": "code",
   "execution_count": 27,
   "metadata": {},
   "outputs": [
    {
     "data": {
      "image/png": "[encoded data removed]",
      "text/plain": [
       "<Figure size 864x576 with 1 Axes>"
      ]
     },
     "metadata": {
      "needs_background": "light"
     },
     "output_type": "display_data"
    }
   ],
   "source": [
    "## define the function for making plots of the NN discriminat value\n",
    "def discPlot(model, sig, bkg):\n",
    "    import matplotlib.pyplot as plt\n",
    "    from sklearn.preprocessing import StandardScaler\n",
    "    sig = sig.values[:, 0:6]\n",
    "    bkg = bkg.values[:, 0:6]\n",
    "\n",
    "    sig = StandardScaler().fit_transform(sig)\n",
    "    bkg = StandardScaler().fit_transform(bkg)\n",
    "\n",
    "    sig_pred = model.predict(sig)\n",
    "    bkg_pred = model.predict(bkg)\n",
    "\n",
    "    plt.figure(figsize=(12, 8))\n",
    "    plt.title('NN Discriminant')\n",
    "    plt.xlabel('NN Disc.')\n",
    "    plt.ylabel('Events/Bin')\n",
    "    plt.hist(bkg_pred, histtype='step', color='red', label='ZTT', bins=100, density=True)\n",
    "    plt.hist(sig_pred, histtype='step', color='blue', label='VBF', bins=100, density=True)\n",
    "    plt.legend()\n",
    "discPlot(model, signal, background)"
   ]
  },
  {
   "cell_type": "code",
   "execution_count": 18,
   "metadata": {},
   "outputs": [
    {
     "name": "stderr",
     "output_type": "stream",
     "text": [
      "/Users/tmitchel/Documents/higgsToTauTau/studyNN/NNClassifiers/pyenv/lib/python2.7/site-packages/keras/engine/sequential.py:110: UserWarning: `Sequential.model` is deprecated. `Sequential` is a subclass of `Model`, you can just use your `Sequential` instance directly.\n",
      "  warnings.warn('`Sequential.model` is deprecated. '\n"
     ]
    },
    {
     "data": {
      "image/png": "[encoded data removed]",
      "text/plain": [
       "<Figure size 432x288 with 1 Axes>"
      ]
     },
     "metadata": {
      "needs_background": "light"
     },
     "output_type": "display_data"
    }
   ],
   "source": [
    "%matplotlib inline\n",
    "import matplotlib.pyplot as plt\n",
    "## define the function for plotting ROC curves\n",
    "def ROC_curve(data_test, label_test, weights, model):\n",
    "    from sklearn.metrics import roc_curve, auc\n",
    "\n",
    "    label_predict = model.model.predict(data_test) ## use the model to do classifications\n",
    "    fpr, tpr, _ = roc_curve(\n",
    "        label_test, label_predict[:, 0], sample_weight=weights) ## calculate the ROC curve\n",
    "    roc_auc = auc(fpr, tpr)\n",
    "    plt.plot([0, 1], [0, 1], linestyle='--', lw=2,\n",
    "             color='k', label='random chance')\n",
    "    plt.plot(tpr, fpr, lw=2, color='cyan', label='NN auc = %.3f' % (roc_auc))\n",
    "    plt.xlim([0, 1.0])\n",
    "    plt.ylim([0, 1.0])\n",
    "    plt.xlabel('true positive rate')\n",
    "    plt.ylabel('false positive rate')\n",
    "    plt.title('receiver operating curve')\n",
    "    plt.legend(loc=\"upper left\")\n",
    "    plt.grid()\n",
    "## make some pretty plots\n",
    "ROC_curve(data, label, weight, model)"
   ]
  },
  {
   "cell_type": "code",
   "execution_count": 19,
   "metadata": {},
   "outputs": [],
   "source": [
    "## build the model\n",
    "model = Sequential()\n",
    "model.add(Dense(6, input_shape=(6,), name='input', activation='sigmoid'))\n",
    "model.add(Dense(1, activation='sigmoid', kernel_initializer='normal'))\n",
    "model.compile(optimizer='adam', loss='binary_crossentropy', metrics=['accuracy'])\n",
    "callbacks = [\n",
    "            EarlyStopping(monitor='val_loss', patience=50),\n",
    "        ]"
   ]
  },
  {
   "cell_type": "code",
   "execution_count": 20,
   "metadata": {},
   "outputs": [],
   "source": [
    "tt_bkg_df['isSignal'] = np.zeros(len(tt_bkg_df))\n",
    "fat_panda_tt = pd.concat([signal, tt_bkg_df], sort=False)\n",
    "all_data_tt = fat_panda_tt.values ## convert pandas dataframe -> numpy array"
   ]
  },
  {
   "cell_type": "code",
   "execution_count": 21,
   "metadata": {},
   "outputs": [],
   "source": [
    "# split data into labels and also split into train/test\n",
    "data_train_tt, data_test_tt, meta_train_tt, meta_test_tt = train_test_split(\n",
    "    all_data_tt[:, :6], all_data_tt[:, 6:], test_size=0.05, random_state=7)"
   ]
  },
  {
   "cell_type": "code",
   "execution_count": 22,
   "metadata": {},
   "outputs": [],
   "source": [
    "# normalize all input variables to improve performance\n",
    "data_train_tt = StandardScaler().fit_transform(data_train_tt)"
   ]
  },
  {
   "cell_type": "code",
   "execution_count": 23,
   "metadata": {},
   "outputs": [],
   "source": [
    "## separate the event weights and labels\n",
    "data_tt = data_train_tt\n",
    "weight_tt = meta_train_tt[:, 0]\n",
    "label_tt = meta_train_tt[:, 1]"
   ]
  },
  {
   "cell_type": "code",
   "execution_count": 24,
   "metadata": {},
   "outputs": [],
   "source": [
    "%%capture\n",
    "model.fit(data_tt, label_tt, shuffle=True,\n",
    "          epochs=10000, batch_size=1024, verbose=True,\n",
    "          callbacks=callbacks, validation_split=0.25, sample_weight=weight_tt\n",
    "          )"
   ]
  },
  {
   "cell_type": "code",
   "execution_count": 25,
   "metadata": {},
   "outputs": [
    {
     "data": {
      "image/png": "[encoded data removed]",
      "text/plain": [
       "<Figure size 432x288 with 1 Axes>"
      ]
     },
     "metadata": {
      "needs_background": "light"
     },
     "output_type": "display_data"
    }
   ],
   "source": [
    "ROC_curve(data_tt, label_tt, weight_tt, model)"
   ]
  },
  {
   "cell_type": "code",
   "execution_count": 26,
   "metadata": {},
   "outputs": [
    {
     "data": {
      "image/png": "[encoded data removed]",
      "text/plain": [
       "<Figure size 864x576 with 1 Axes>"
      ]
     },
     "metadata": {
      "needs_background": "light"
     },
     "output_type": "display_data"
    }
   ],
   "source": [
    "discPlot(model, signal, tt_bkg_df)"
   ]
  },
  {
   "cell_type": "code",
   "execution_count": null,
   "metadata": {},
   "outputs": [],
   "source": []
  }
 ],
 "metadata": {
  "kernelspec": {
   "display_name": "Python 2",
   "language": "python",
   "name": "python2"
  },
  "language_info": {
   "codemirror_mode": {
    "name": "ipython",
    "version": 2
   },
   "file_extension": ".py",
   "mimetype": "text/x-python",
   "name": "python",
   "nbconvert_exporter": "python",
   "pygments_lexer": "ipython2",
   "version": "2.7.10"
  }
 },
 "nbformat": 4,
 "nbformat_minor": 2
}
